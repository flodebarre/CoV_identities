{
 "cells": [
  {
   "cell_type": "markdown",
   "id": "ef668f6a-6c11-40cd-94ec-f416f5eccbbd",
   "metadata": {},
   "source": [
    "# Compute and plot identities from alignment\n",
    "\n",
    "Import Python modules:"
   ]
  },
  {
   "cell_type": "code",
   "execution_count": 12,
   "id": "f9c48bfd-4a77-458f-b933-b15e1b407aaf",
   "metadata": {
    "execution": {
     "iopub.execute_input": "2023-01-11T00:31:18.241855Z",
     "iopub.status.busy": "2023-01-11T00:31:18.241364Z",
     "iopub.status.idle": "2023-01-11T00:31:18.246488Z",
     "shell.execute_reply": "2023-01-11T00:31:18.245675Z",
     "shell.execute_reply.started": "2023-01-11T00:31:18.241809Z"
    },
    "tags": []
   },
   "outputs": [],
   "source": [
    "import itertools\n",
    "\n",
    "import altair as alt\n",
    "\n",
    "import Bio.SeqIO\n",
    "\n",
    "import pandas as pd\n",
    "\n",
    "import yaml"
   ]
  },
  {
   "cell_type": "markdown",
   "id": "4e0da924-ddea-4d29-81a9-fc3b142a244a",
   "metadata": {},
   "source": [
    "Get variables from `snakemake`:"
   ]
  },
  {
   "cell_type": "code",
   "execution_count": 4,
   "id": "982cca0e-1fd2-462d-85b0-e08960a7ff2f",
   "metadata": {
    "execution": {
     "iopub.execute_input": "2023-01-11T00:25:23.574333Z",
     "iopub.status.busy": "2023-01-11T00:25:23.573843Z",
     "iopub.status.idle": "2023-01-11T00:25:23.593372Z",
     "shell.execute_reply": "2023-01-11T00:25:23.592795Z",
     "shell.execute_reply.started": "2023-01-11T00:25:23.574286Z"
    },
    "tags": []
   },
   "outputs": [],
   "source": [
    "if \"snakemake\" in globals() or \"snakemake\" in locals():\n",
    "    # from snakemake\n",
    "    inputfasta = snakemake.input.fasta\n",
    "    chartfile = snakemake.output.chart\n",
    "    csvfile = snakemake.output.csv\n",
    "    alignment_ref = snakemake.params.alignment_ref\n",
    "    ref_regions = snakemake.params.ref_regions\n",
    "else:\n",
    "    # manually define for running interactively\n",
    "    inputfasta = \"../results/viruses/all_viruses_aligned.fasta\"\n",
    "    chartfile = \"../results/identities/identities.html\"\n",
    "    csvfile = \"../results/identities/identities.csv\"\n",
    "    with open(\"../config.yaml\") as f:\n",
    "        config = yaml.safe_load(f)\n",
    "    alignment_ref = config[\"alignment_ref\"]\n",
    "    ref_regions = config[\"ref_regions\"]"
   ]
  },
  {
   "cell_type": "markdown",
   "id": "bf81ebbe-1189-472d-b9dc-863b3d710aec",
   "metadata": {},
   "source": [
    "Read alignment:"
   ]
  },
  {
   "cell_type": "code",
   "execution_count": 8,
   "id": "68178ffe-2c44-4ed9-a4ee-f32b490e9c51",
   "metadata": {
    "execution": {
     "iopub.execute_input": "2023-01-11T00:25:40.314304Z",
     "iopub.status.busy": "2023-01-11T00:25:40.313830Z",
     "iopub.status.idle": "2023-01-11T00:25:40.330669Z",
     "shell.execute_reply": "2023-01-11T00:25:40.330010Z",
     "shell.execute_reply.started": "2023-01-11T00:25:40.314261Z"
    },
    "tags": []
   },
   "outputs": [],
   "source": [
    "alignment = {s.id: str(s.seq) for s in Bio.SeqIO.parse(inputfasta, \"fasta\")}"
   ]
  },
  {
   "cell_type": "markdown",
   "id": "bfcf7b19-d506-4ccb-a7bc-11914ca2a434",
   "metadata": {},
   "source": [
    "Get reference to alignment numbering (1-based):"
   ]
  },
  {
   "cell_type": "code",
   "execution_count": 11,
   "id": "d033fc43-bd8d-4173-9438-2031001a1d76",
   "metadata": {
    "execution": {
     "iopub.execute_input": "2023-01-11T00:29:06.617831Z",
     "iopub.status.busy": "2023-01-11T00:29:06.617337Z",
     "iopub.status.idle": "2023-01-11T00:29:06.637725Z",
     "shell.execute_reply": "2023-01-11T00:29:06.637148Z",
     "shell.execute_reply.started": "2023-01-11T00:29:06.617785Z"
    },
    "tags": []
   },
   "outputs": [],
   "source": [
    "alignment_to_ref_numbering = {}\n",
    "i_ref = 0\n",
    "for i_alignment, nt in enumerate(alignment[alignment_ref], start=1):\n",
    "    if nt != \"-\":\n",
    "        i_ref += 1\n",
    "    alignment_to_ref_numbering[i_alignment] = i_ref\n",
    "    \n",
    "ref_to_alignment_numbering = {y:x for x, y in alignment_to_ref_numbering.items()}"
   ]
  },
  {
   "cell_type": "markdown",
   "id": "da05f20a-c98f-4573-ada9-b951f2731f90",
   "metadata": {
    "execution": {
     "iopub.execute_input": "2023-01-11T00:28:33.546479Z",
     "iopub.status.busy": "2023-01-11T00:28:33.545996Z",
     "iopub.status.idle": "2023-01-11T00:28:33.582561Z",
     "shell.execute_reply": "2023-01-11T00:28:33.581940Z",
     "shell.execute_reply.started": "2023-01-11T00:28:33.546433Z"
    }
   },
   "source": [
    "Compute identities for each gene:"
   ]
  },
  {
   "cell_type": "code",
   "execution_count": 23,
   "id": "9941acae-9cd3-4195-b207-b73abdf9535e",
   "metadata": {
    "execution": {
     "iopub.execute_input": "2023-01-11T00:45:19.816060Z",
     "iopub.status.busy": "2023-01-11T00:45:19.815553Z",
     "iopub.status.idle": "2023-01-11T00:45:25.361098Z",
     "shell.execute_reply": "2023-01-11T00:45:25.359922Z",
     "shell.execute_reply.started": "2023-01-11T00:45:19.816014Z"
    },
    "tags": []
   },
   "outputs": [
    {
     "data": {
      "text/html": [
       "<div>\n",
       "<style scoped>\n",
       "    .dataframe tbody tr th:only-of-type {\n",
       "        vertical-align: middle;\n",
       "    }\n",
       "\n",
       "    .dataframe tbody tr th {\n",
       "        vertical-align: top;\n",
       "    }\n",
       "\n",
       "    .dataframe thead th {\n",
       "        text-align: right;\n",
       "    }\n",
       "</style>\n",
       "<table border=\"1\" class=\"dataframe\">\n",
       "  <thead>\n",
       "    <tr style=\"text-align: right;\">\n",
       "      <th></th>\n",
       "      <th>gene</th>\n",
       "      <th>virus_1</th>\n",
       "      <th>virus_2</th>\n",
       "      <th>n identities</th>\n",
       "      <th>count gaps as mismatches</th>\n",
       "      <th>n sites</th>\n",
       "      <th>percent_identity</th>\n",
       "    </tr>\n",
       "  </thead>\n",
       "  <tbody>\n",
       "    <tr>\n",
       "      <th>0</th>\n",
       "      <td>ORF1a</td>\n",
       "      <td>SARS-CoV-2_Wuhan-Hu-1</td>\n",
       "      <td>SARS-CoV-2_Wuhan-Hu-1</td>\n",
       "      <td>13100</td>\n",
       "      <td>no gaps</td>\n",
       "      <td>13100</td>\n",
       "      <td>100.000000</td>\n",
       "    </tr>\n",
       "    <tr>\n",
       "      <th>1</th>\n",
       "      <td>ORF1a</td>\n",
       "      <td>SARS-CoV-2_Wuhan-Hu-1</td>\n",
       "      <td>RaTG13</td>\n",
       "      <td>12579</td>\n",
       "      <td>no gaps</td>\n",
       "      <td>13097</td>\n",
       "      <td>96.044896</td>\n",
       "    </tr>\n",
       "    <tr>\n",
       "      <th>2</th>\n",
       "      <td>ORF1a</td>\n",
       "      <td>SARS-CoV-2_Wuhan-Hu-1</td>\n",
       "      <td>RaTG13</td>\n",
       "      <td>12579</td>\n",
       "      <td>no gaps</td>\n",
       "      <td>13097</td>\n",
       "      <td>96.044896</td>\n",
       "    </tr>\n",
       "    <tr>\n",
       "      <th>3</th>\n",
       "      <td>ORF1a</td>\n",
       "      <td>SARS-CoV-2_Wuhan-Hu-1</td>\n",
       "      <td>SARS-CoV-1</td>\n",
       "      <td>9881</td>\n",
       "      <td>no gaps</td>\n",
       "      <td>12998</td>\n",
       "      <td>76.019388</td>\n",
       "    </tr>\n",
       "    <tr>\n",
       "      <th>4</th>\n",
       "      <td>ORF1a</td>\n",
       "      <td>SARS-CoV-2_Wuhan-Hu-1</td>\n",
       "      <td>SARS-CoV-1</td>\n",
       "      <td>9881</td>\n",
       "      <td>no gaps</td>\n",
       "      <td>12998</td>\n",
       "      <td>76.019388</td>\n",
       "    </tr>\n",
       "    <tr>\n",
       "      <th>...</th>\n",
       "      <td>...</td>\n",
       "      <td>...</td>\n",
       "      <td>...</td>\n",
       "      <td>...</td>\n",
       "      <td>...</td>\n",
       "      <td>...</td>\n",
       "      <td>...</td>\n",
       "    </tr>\n",
       "    <tr>\n",
       "      <th>39361</th>\n",
       "      <td>nsp16</td>\n",
       "      <td>RShSTT182</td>\n",
       "      <td>GD_Pangolin</td>\n",
       "      <td>820</td>\n",
       "      <td>with gaps</td>\n",
       "      <td>894</td>\n",
       "      <td>91.722595</td>\n",
       "    </tr>\n",
       "    <tr>\n",
       "      <th>39362</th>\n",
       "      <td>nsp16</td>\n",
       "      <td>RShSTT200</td>\n",
       "      <td>RShSTT200</td>\n",
       "      <td>894</td>\n",
       "      <td>with gaps</td>\n",
       "      <td>894</td>\n",
       "      <td>100.000000</td>\n",
       "    </tr>\n",
       "    <tr>\n",
       "      <th>39363</th>\n",
       "      <td>nsp16</td>\n",
       "      <td>RShSTT200</td>\n",
       "      <td>GD_Pangolin</td>\n",
       "      <td>820</td>\n",
       "      <td>with gaps</td>\n",
       "      <td>894</td>\n",
       "      <td>91.722595</td>\n",
       "    </tr>\n",
       "    <tr>\n",
       "      <th>39364</th>\n",
       "      <td>nsp16</td>\n",
       "      <td>RShSTT200</td>\n",
       "      <td>GD_Pangolin</td>\n",
       "      <td>820</td>\n",
       "      <td>with gaps</td>\n",
       "      <td>894</td>\n",
       "      <td>91.722595</td>\n",
       "    </tr>\n",
       "    <tr>\n",
       "      <th>39365</th>\n",
       "      <td>nsp16</td>\n",
       "      <td>GD_Pangolin</td>\n",
       "      <td>GD_Pangolin</td>\n",
       "      <td>894</td>\n",
       "      <td>with gaps</td>\n",
       "      <td>894</td>\n",
       "      <td>100.000000</td>\n",
       "    </tr>\n",
       "  </tbody>\n",
       "</table>\n",
       "<p>39366 rows × 7 columns</p>\n",
       "</div>"
      ],
      "text/plain": [
       "        gene                virus_1                virus_2  n identities  \\\n",
       "0      ORF1a  SARS-CoV-2_Wuhan-Hu-1  SARS-CoV-2_Wuhan-Hu-1         13100   \n",
       "1      ORF1a  SARS-CoV-2_Wuhan-Hu-1                 RaTG13         12579   \n",
       "2      ORF1a  SARS-CoV-2_Wuhan-Hu-1                 RaTG13         12579   \n",
       "3      ORF1a  SARS-CoV-2_Wuhan-Hu-1             SARS-CoV-1          9881   \n",
       "4      ORF1a  SARS-CoV-2_Wuhan-Hu-1             SARS-CoV-1          9881   \n",
       "...      ...                    ...                    ...           ...   \n",
       "39361  nsp16              RShSTT182            GD_Pangolin           820   \n",
       "39362  nsp16              RShSTT200              RShSTT200           894   \n",
       "39363  nsp16              RShSTT200            GD_Pangolin           820   \n",
       "39364  nsp16              RShSTT200            GD_Pangolin           820   \n",
       "39365  nsp16            GD_Pangolin            GD_Pangolin           894   \n",
       "\n",
       "      count gaps as mismatches  n sites  percent_identity  \n",
       "0                      no gaps    13100        100.000000  \n",
       "1                      no gaps    13097         96.044896  \n",
       "2                      no gaps    13097         96.044896  \n",
       "3                      no gaps    12998         76.019388  \n",
       "4                      no gaps    12998         76.019388  \n",
       "...                        ...      ...               ...  \n",
       "39361                with gaps      894         91.722595  \n",
       "39362                with gaps      894        100.000000  \n",
       "39363                with gaps      894         91.722595  \n",
       "39364                with gaps      894         91.722595  \n",
       "39365                with gaps      894        100.000000  \n",
       "\n",
       "[39366 rows x 7 columns]"
      ]
     },
     "execution_count": 23,
     "metadata": {},
     "output_type": "execute_result"
    }
   ],
   "source": [
    "records = []\n",
    "for gene, (start, end) in ref_regions.items():\n",
    "    for i, virus_1 in enumerate(alignment):\n",
    "        seq_1 = alignment[virus_1][start - 1: end]\n",
    "        for virus_2 in list(alignment)[i: ]:\n",
    "            seq_2 = alignment[virus_2][start - 1: end]\n",
    "            ident = n_w_gaps = n_no_gaps = 0\n",
    "            for nt1, nt2 in zip(seq_1, seq_2):\n",
    "                if nt1 == nt2 == \"-\":\n",
    "                    pass\n",
    "                elif (nt1 == \"-\") or (nt2 == \"-\"):\n",
    "                    n_w_gaps += 1\n",
    "                elif nt1 == nt2:\n",
    "                    ident += 1\n",
    "                    n_no_gaps += 1\n",
    "                    n_w_gaps += 1\n",
    "                else:\n",
    "                    n_no_gaps += 1\n",
    "                    n_w_gaps += 1\n",
    "            records.append((gene, virus_1, virus_2, ident, n_no_gaps, n_w_gaps))\n",
    "            if virus_1 != virus_2:\n",
    "                records.append((gene, virus_1, virus_2, ident, n_no_gaps, n_w_gaps))\n",
    "        \n",
    "df = (\n",
    "    pd.DataFrame(\n",
    "        records,\n",
    "        columns=[\n",
    "            \"gene\",\n",
    "            \"virus_1\",\n",
    "            \"virus_2\",\n",
    "            \"n identities\",\n",
    "            \"no gaps\",\n",
    "            \"with gaps\",\n",
    "        ],\n",
    "    )\n",
    "    .melt(\n",
    "        id_vars=[\"gene\", \"virus_1\", \"virus_2\", \"n identities\"],\n",
    "        value_vars=[\"no gaps\", \"with gaps\"],\n",
    "        var_name=\"count gaps as mismatches\",\n",
    "        value_name=\"n sites\",\n",
    "    )\n",
    "    .query(\"`n sites` > 0\")\n",
    "    .assign(percent_identity=lambda x: 100 * x[\"n identities\"] / x[\"n sites\"])\n",
    ")\n",
    "\n",
    "print(f\"Writing identites to {csvfile}\")\n",
    "\n",
    "df.to_csv(csvfile, index=False, float_format=\"%.5g\")\n",
    "\n",
    "df"
   ]
  },
  {
   "cell_type": "code",
   "execution_count": null,
   "id": "5d24cbe5-a363-484b-a782-ed64ab8e3b87",
   "metadata": {},
   "outputs": [],
   "source": []
  }
 ],
 "metadata": {
  "kernelspec": {
   "display_name": "Python 3 (ipykernel)",
   "language": "python",
   "name": "python3"
  },
  "language_info": {
   "codemirror_mode": {
    "name": "ipython",
    "version": 3
   },
   "file_extension": ".py",
   "mimetype": "text/x-python",
   "name": "python",
   "nbconvert_exporter": "python",
   "pygments_lexer": "ipython3",
   "version": "3.8.12"
  }
 },
 "nbformat": 4,
 "nbformat_minor": 5
}
